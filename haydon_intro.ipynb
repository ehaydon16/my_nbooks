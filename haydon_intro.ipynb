{
 "cells": [
  {
   "cell_type": "markdown",
   "id": "90eab8c6-31b9-475f-8664-6721a3313a96",
   "metadata": {},
   "source": [
    "# H1 Heading"
   ]
  },
  {
   "cell_type": "markdown",
   "id": "f3349906-6bb7-400e-b736-fe2b2c02a8bf",
   "metadata": {},
   "source": [
    "## H2 Heading"
   ]
  },
  {
   "cell_type": "code",
   "execution_count": 9,
   "id": "f80186de-36f9-4591-830b-36417f6f744b",
   "metadata": {},
   "outputs": [],
   "source": [
    "import random as ra\n",
    "nums = []\n",
    "for i in range(0,40):\n",
    "    x=ra.randint(30,100)\n",
    "    nums.append(x)\n",
    "    "
   ]
  },
  {
   "cell_type": "code",
   "execution_count": 13,
   "id": "9896b9dd-3bd3-4473-93d1-61f92ef8f46d",
   "metadata": {},
   "outputs": [
    {
     "name": "stdout",
     "output_type": "stream",
     "text": [
      "30 31 33 33 40 40 40 43 46 46 48 49 51 54 55 57 59 60 62 65 68 68 68 68 69 69 69 70 70 71 74 76 81 83 88 90 92 95 96 99 "
     ]
    }
   ],
   "source": [
    "nums.sort()\n",
    "for i in nums:\n",
    "    print(i,end=' ')"
   ]
  },
  {
   "cell_type": "markdown",
   "id": "edd3ca58-84a5-43c1-be2c-9519f4a6ee32",
   "metadata": {},
   "source": [
    "## The Sample Mean\n",
    "- Add together all numbers\n",
    "- Divide sum by amount of numbers"
   ]
  },
  {
   "cell_type": "markdown",
   "id": "81dbfcd8-bc67-457a-ac19-e51220687256",
   "metadata": {},
   "source": [
    "$$\\bar{a}=\\frac{\\Sigma x_i}{n}$$"
   ]
  },
  {
   "cell_type": "code",
   "execution_count": 24,
   "id": "010e4db6-04b8-4699-ac4a-7994d66885bf",
   "metadata": {},
   "outputs": [
    {
     "name": "stdout",
     "output_type": "stream",
     "text": [
      "62.65\n"
     ]
    }
   ],
   "source": [
    "total=0\n",
    "for i in nums:\n",
    "    total=total+i\n",
    "mean=total/len(nums)\n",
    "print(f\"{mean:.2f}\")"
   ]
  },
  {
   "cell_type": "markdown",
   "id": "bc9546f3-f7a5-4def-898c-f1cf1cb9eb80",
   "metadata": {},
   "source": [
    "## The Median\n",
    "https://www.investopedia.com/terms/m/median.asp#:~:text=The%20median%20is%20the%20middle%20value%20in%20a%20set%20of,that%20position%20is%20the%20median."
   ]
  },
  {
   "cell_type": "code",
   "execution_count": 48,
   "id": "12b16671-7f7a-44a1-8247-ed0538687860",
   "metadata": {},
   "outputs": [
    {
     "name": "stdout",
     "output_type": "stream",
     "text": [
      "68.0\n"
     ]
    }
   ],
   "source": [
    "#how to find median\n",
    "#sort numbers in ascending order\n",
    "#divide len by 2\n",
    "#find resulting number placement in list\n",
    "med=len(nums)/2\n",
    "med=int(med)\n",
    "print(f\"{nums[med]:.1f}\")"
   ]
  },
  {
   "cell_type": "code",
   "execution_count": null,
   "id": "fd56112b-386d-43c3-a4f1-ff889ec49ca4",
   "metadata": {},
   "outputs": [],
   "source": []
  },
  {
   "cell_type": "code",
   "execution_count": null,
   "id": "41b86c55-527c-4fd8-b511-1a05017ebd44",
   "metadata": {},
   "outputs": [],
   "source": []
  }
 ],
 "metadata": {
  "kernelspec": {
   "display_name": "Python 3 (ipykernel)",
   "language": "python",
   "name": "python3"
  },
  "language_info": {
   "codemirror_mode": {
    "name": "ipython",
    "version": 3
   },
   "file_extension": ".py",
   "mimetype": "text/x-python",
   "name": "python",
   "nbconvert_exporter": "python",
   "pygments_lexer": "ipython3",
   "version": "3.11.7"
  }
 },
 "nbformat": 4,
 "nbformat_minor": 5
}
